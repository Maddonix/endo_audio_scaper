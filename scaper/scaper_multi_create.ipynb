{
 "cells": [
  {
   "cell_type": "code",
   "execution_count": 19,
   "id": "b6cbcca9",
   "metadata": {},
   "outputs": [
    {
     "name": "stderr",
     "output_type": "stream",
     "text": [
      "/home/lux_t1/.conda/envs/endomic/lib/python3.8/site-packages/ipykernel/ipkernel.py:287: DeprecationWarning: `should_run_async` will not call `transform_cell` automatically in the future. Please pass the result to `transformed_cell` argument and any exception that happen during thetransform in `preprocessing_exc_tuple` in IPython 7.17 and above.\n",
      "  and should_run_async(code)\n"
     ]
    }
   ],
   "source": [
    "import scaper\n",
    "import numpy as np\n",
    "import pathlib\n",
    "from tqdm.auto import tqdm\n",
    "import warnings\n",
    "\n",
    "warnings.filterwarnings(action='ignore')"
   ]
  },
  {
   "cell_type": "code",
   "execution_count": 2,
   "id": "00298ec5",
   "metadata": {},
   "outputs": [],
   "source": [
    "BASE_PATH = pathlib.Path(\".\")\n",
    "data_path = BASE_PATH.joinpath(\"data\")\n",
    "fg_folder = data_path.joinpath(\"foreground\")\n",
    "bg_folder = data_path.joinpath(\"background\")\n",
    "\n",
    "outfolder = BASE_PATH.joinpath(\"soundscapes\")\n",
    "\n",
    "assert fg_folder.exists()\n",
    "assert bg_folder.exists()\n",
    "assert outfolder.exists()"
   ]
  },
  {
   "cell_type": "code",
   "execution_count": 8,
   "id": "57c28486",
   "metadata": {},
   "outputs": [],
   "source": [
    "# Settings\n",
    "n_soundscapes = 1000\n",
    "ref_db = -50\n",
    "duration = 10.0\n",
    "\n",
    "min_events = 1\n",
    "max_events = 9\n",
    "\n",
    "event_time_dist = 'truncnorm'\n",
    "event_time_mean = 5.0\n",
    "event_time_std = 2.0\n",
    "event_time_min = 0.0\n",
    "event_time_max = 10.0\n",
    "\n",
    "source_time_dist = 'const'\n",
    "source_time = 0.0\n",
    "\n",
    "event_duration_dist = 'uniform'\n",
    "event_duration_min = 0.5\n",
    "event_duration_max = 4.0\n",
    "\n",
    "snr_dist = 'uniform'\n",
    "snr_min = 6\n",
    "snr_max = 30\n",
    "\n",
    "pitch_dist = 'uniform'\n",
    "pitch_min = -3.0\n",
    "pitch_max = 3.0\n",
    "\n",
    "time_stretch_dist = 'uniform'\n",
    "time_stretch_min = 0.8\n",
    "time_stretch_max = 1.2\n",
    "\n",
    "# generate a random seed for this Scaper object\n",
    "seed = 42"
   ]
  },
  {
   "cell_type": "code",
   "execution_count": 21,
   "id": "75565ac5",
   "metadata": {},
   "outputs": [
    {
     "data": {
      "application/vnd.jupyter.widget-view+json": {
       "model_id": "b1ac32413be5464c8e25d700bcba5df0",
       "version_major": 2,
       "version_minor": 0
      },
      "text/plain": [
       "  0%|          | 0/1000 [00:00<?, ?it/s]"
      ]
     },
     "metadata": {},
     "output_type": "display_data"
    }
   ],
   "source": [
    "# create a scaper that will be used below\n",
    "sc = scaper.Scaper(duration, fg_folder, bg_folder, random_state=seed)\n",
    "sc.protected_labels = []\n",
    "sc.ref_db = ref_db\n",
    "\n",
    "# Generate 1000 soundscapes using a truncated normal distribution of start times\n",
    "\n",
    "for n in tqdm(range(n_soundscapes)):\n",
    "\n",
    "#     print('Generating soundscape: {:d}/{:d}'.format(n+1, n_soundscapes))\n",
    "\n",
    "    # reset the event specifications for foreground and background at the\n",
    "    # beginning of each loop to clear all previously added events\n",
    "    sc.reset_bg_event_spec()\n",
    "    sc.reset_fg_event_spec()\n",
    "    # add background\n",
    "    sc.add_background(label=('choose', []),\n",
    "                      source_file=('choose', []),\n",
    "                      source_time=('const', 0))\n",
    "\n",
    "    # add random number of foreground events\n",
    "    n_events = np.random.randint(min_events, max_events+1)\n",
    "    for _ in range(n_events):\n",
    "        sc.add_event(label=('choose', []),\n",
    "                     source_file=('choose', []),\n",
    "                     source_time=(source_time_dist, source_time),\n",
    "                     event_time=(event_time_dist, event_time_mean, event_time_std, event_time_min, event_time_max),\n",
    "                     event_duration=(event_duration_dist, event_duration_min, event_duration_max),\n",
    "                     snr=(snr_dist, snr_min, snr_max),\n",
    "                     pitch_shift=(pitch_dist, pitch_min, pitch_max),\n",
    "                     time_stretch=(time_stretch_dist, time_stretch_min, time_stretch_max))\n",
    "\n",
    "    # generate\n",
    "    audiofile = outfolder.joinpath(f\"soundscape_unimodal{n}.wav\").as_posix()\n",
    "    jamsfile = outfolder.joinpath(f\"soundscape_unimodal{n}.jams\").as_posix()\n",
    "    txtfile = outfolder.joinpath(f\"soundscape_unimodal{n}.txt\").as_posix()\n",
    "\n",
    "    sc.generate(audiofile, jamsfile,\n",
    "                allow_repeated_label=True,\n",
    "                allow_repeated_source=True,\n",
    "                reverb=0.1,\n",
    "                disable_sox_warnings=True,\n",
    "                no_audio=False,\n",
    "                txt_path=txtfile)\n",
    "    \n",
    "    "
   ]
  },
  {
   "cell_type": "code",
   "execution_count": 32,
   "id": "d39c7309",
   "metadata": {},
   "outputs": [],
   "source": [
    "class asd():\n",
    "    def __init__(self, in_dict = None):\n",
    "        if in_dict:\n",
    "            print(in_dict)\n",
    "        else:\n",
    "            print(\"ASDASD\")\n",
    "        "
   ]
  },
  {
   "cell_type": "code",
   "execution_count": 34,
   "id": "e154a627",
   "metadata": {},
   "outputs": [
    {
     "name": "stdout",
     "output_type": "stream",
     "text": [
      "ASDASD\n"
     ]
    },
    {
     "data": {
      "text/plain": [
       "<__main__.asd at 0x7f2bf1108430>"
      ]
     },
     "execution_count": 34,
     "metadata": {},
     "output_type": "execute_result"
    }
   ],
   "source": [
    "asd()"
   ]
  },
  {
   "cell_type": "code",
   "execution_count": 35,
   "id": "0d520e89",
   "metadata": {},
   "outputs": [],
   "source": [
    "from collections import namedtuple"
   ]
  },
  {
   "cell_type": "code",
   "execution_count": 36,
   "id": "e7a337f5",
   "metadata": {},
   "outputs": [],
   "source": [
    "a = namedtuple(\"param\", [\"param\", \"type\"])"
   ]
  },
  {
   "cell_type": "code",
   "execution_count": 37,
   "id": "775b31f8",
   "metadata": {},
   "outputs": [
    {
     "data": {
      "text/plain": [
       "param(param='asd', type=123)"
      ]
     },
     "execution_count": 37,
     "metadata": {},
     "output_type": "execute_result"
    }
   ],
   "source": [
    "a(\"asd\", 123)"
   ]
  },
  {
   "cell_type": "code",
   "execution_count": 40,
   "id": "0c661f8e",
   "metadata": {},
   "outputs": [],
   "source": [
    "from datetime import datetime as dt"
   ]
  },
  {
   "cell_type": "code",
   "execution_count": 42,
   "id": "16a6a62e",
   "metadata": {},
   "outputs": [],
   "source": [
    "_ = dt.now()"
   ]
  },
  {
   "cell_type": "code",
   "execution_count": 49,
   "id": "e9ba343c",
   "metadata": {},
   "outputs": [
    {
     "data": {
      "text/plain": [
       "'2021 04 13 09h 39min'"
      ]
     },
     "execution_count": 49,
     "metadata": {},
     "output_type": "execute_result"
    }
   ],
   "source": [
    "_.strftime(\"%Y %m %d %Hh %Mmin\")"
   ]
  },
  {
   "cell_type": "code",
   "execution_count": null,
   "id": "d68d7c52",
   "metadata": {},
   "outputs": [],
   "source": []
  }
 ],
 "metadata": {
  "kernelspec": {
   "display_name": "Python 3",
   "language": "python",
   "name": "python3"
  },
  "language_info": {
   "codemirror_mode": {
    "name": "ipython",
    "version": 3
   },
   "file_extension": ".py",
   "mimetype": "text/x-python",
   "name": "python",
   "nbconvert_exporter": "python",
   "pygments_lexer": "ipython3",
   "version": "3.8.8"
  }
 },
 "nbformat": 4,
 "nbformat_minor": 5
}

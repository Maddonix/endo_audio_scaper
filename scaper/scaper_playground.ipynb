{
 "cells": [
  {
   "cell_type": "code",
   "execution_count": 2,
   "id": "45ff3321",
   "metadata": {},
   "outputs": [],
   "source": [
    "import scaper\n",
    "import pathlib\n",
    "import numpy as np"
   ]
  },
  {
   "cell_type": "code",
   "execution_count": 3,
   "id": "b553046e",
   "metadata": {},
   "outputs": [],
   "source": [
    "BASE_PATH = pathlib.Path(\".\")"
   ]
  },
  {
   "cell_type": "code",
   "execution_count": 8,
   "id": "c1501079",
   "metadata": {},
   "outputs": [],
   "source": [
    "BASE_PATH = pathlib.Path(\".\")\n",
    "data_path = BASE_PATH.joinpath(\"data\")\n",
    "fg_folder_path = data_path.joinpath(\"foreground\")\n",
    "bg_folder_path = data_path.joinpath(\"background\")\n",
    "\n",
    "assert fg_folder_path.exists()\n",
    "assert bg_folder_path.exists()"
   ]
  },
  {
   "cell_type": "code",
   "execution_count": 21,
   "id": "c24c116c",
   "metadata": {},
   "outputs": [],
   "source": [
    "# Settings\n",
    "seed = 42\n",
    "soundscape_duration = 5\n",
    "ref_db = -60"
   ]
  },
  {
   "cell_type": "code",
   "execution_count": 22,
   "id": "130ce368",
   "metadata": {},
   "outputs": [],
   "source": [
    "sc = scaper.Scaper(\n",
    "    soundscape_duration, \n",
    "    fg_folder_path,\n",
    "    bg_folder_path\n",
    ")\n",
    "\n",
    "sc.ref_db = ref_db"
   ]
  },
  {
   "cell_type": "code",
   "execution_count": 23,
   "id": "a912e689",
   "metadata": {},
   "outputs": [
    {
     "name": "stdout",
     "output_type": "stream",
     "text": [
      "\n"
     ]
    }
   ],
   "source": [
    "sc.add_background(\n",
    "    label = (\"const\", \"park\"),\n",
    "    source_file = (\"choose\", []),\n",
    "    source_time = (\"const\", 0)\n",
    ")\n",
    "\n",
    "'''\n",
    "The distribution tuples currently supported by scaper are:\n",
    "\n",
    "('const', value): a constant, given by value.\n",
    "('choose', list): uniformly sample from a finite set of values given by list.\n",
    "('uniform', min, max): sample from a uniform distribution between min and max.\n",
    "('normal', mean, std): sample from a normal distribution with mean mean and standard deviation std.\n",
    "('truncnorm', mean, std, min, max): sample from a truncated normal distribution with mean mean and standard deviation std, limited to values between min and max.\n",
    "\n",
    "Special cases: \n",
    "the label and source_file parameters in sc.add_background() \n",
    "(and as we’ll see later sc.add_event() as well) must be specified using either \n",
    "the const or choose distribution tuples. When using choose, these two parameters \n",
    "(and only these) can also accept a special version of the choose tuple in the form ('choose', []),\n",
    "i.e. with an empty list. In this case, scaper will use the file structure in the \n",
    "foreground and background folders to automatically populate the list with all valid labels \n",
    "(in the case of the label parameter) and all valid filenames (in the case of the source_file parameter).\n",
    "'''\n",
    "print(\"\")"
   ]
  },
  {
   "cell_type": "code",
   "execution_count": 24,
   "id": "0fc9f391",
   "metadata": {},
   "outputs": [],
   "source": [
    "sc.add_event(label=('const', 'siren'),\n",
    "             source_file=('choose', []),\n",
    "             source_time=('const', 0),\n",
    "             event_time=('uniform', 0, 9),\n",
    "             event_duration=('truncnorm', 3, 1, 0.5, 5),\n",
    "             snr=('normal', 10, 3),\n",
    "             pitch_shift=('uniform', -2, 2), #set to none if not wanted\n",
    "             time_stretch=('uniform', 0.8, 1.2)) #set to none if not wanted"
   ]
  },
  {
   "cell_type": "code",
   "execution_count": 25,
   "id": "22fb7586",
   "metadata": {},
   "outputs": [],
   "source": [
    "for _ in range(2):\n",
    "    sc.add_event(label=('choose', []),\n",
    "                 source_file=('choose', []),\n",
    "                 source_time=('const', 0),\n",
    "                 event_time=('uniform', 0, 9),\n",
    "                 event_duration=('truncnorm', 3, 1, 0.5, 5),\n",
    "                 snr=('normal', 10, 3),\n",
    "                 pitch_shift=None,\n",
    "                 time_stretch=None)"
   ]
  },
  {
   "cell_type": "code",
   "execution_count": 26,
   "id": "b1c120ba",
   "metadata": {},
   "outputs": [
    {
     "name": "stderr",
     "output_type": "stream",
     "text": [
      "/home/lux_t1/.conda/envs/endomic/lib/python3.8/site-packages/scaper/core.py:1563: ScaperWarning: siren event time (6.91) is too great given stretched event duration (4.76) and soundscape duration (5.00), changed to 0.24.\n",
      "  warnings.warn(\n",
      "/home/lux_t1/.conda/envs/endomic/lib/python3.8/site-packages/scaper/core.py:1439: ScaperWarning: human_voice event duration (3.21) is greater that source duration (1.54), changing to 1.54\n",
      "  warnings.warn(\n",
      "/home/lux_t1/.conda/envs/endomic/lib/python3.8/site-packages/scaper/core.py:1551: ScaperWarning: human_voice event time (5.27) is too great given event duration (1.54) and soundscape duration (5.00), changed to 3.46.\n",
      "  warnings.warn(\n",
      "/home/lux_t1/.conda/envs/endomic/lib/python3.8/site-packages/scaper/core.py:1439: ScaperWarning: car_horn event duration (4.41) is greater that source duration (0.69), changing to 0.69\n",
      "  warnings.warn(\n",
      "/home/lux_t1/.conda/envs/endomic/lib/python3.8/site-packages/scaper/core.py:1551: ScaperWarning: car_horn event time (5.55) is too great given event duration (0.69) and soundscape duration (5.00), changed to 4.31.\n",
      "  warnings.warn(\n"
     ]
    },
    {
     "data": {
      "text/plain": [
       "(array([[0.00314349],\n",
       "        [0.00353038],\n",
       "        [0.0025444 ],\n",
       "        ...,\n",
       "        [0.00207778],\n",
       "        [0.00196982],\n",
       "        [0.00201653]]),\n",
       " <JAMS(file_metadata=<FileMetadata(...)>,\n",
       "       annotations=[1 annotation],\n",
       "       sandbox=<Sandbox(...)>)>,\n",
       " [[0.23615888546558672, 5.0, 'siren'],\n",
       "  [3.4604308390022673, 5.0, 'human_voice'],\n",
       "  [4.31249433106576, 5.0, 'car_horn']],\n",
       " [array([[0.00314351],\n",
       "         [0.00353035],\n",
       "         [0.00254442],\n",
       "         ...,\n",
       "         [0.00183243],\n",
       "         [0.00167409],\n",
       "         [0.00168479]]),\n",
       "  array([[0.],\n",
       "         [0.],\n",
       "         [0.],\n",
       "         ...,\n",
       "         [0.],\n",
       "         [0.],\n",
       "         [0.]]),\n",
       "  array([[0.],\n",
       "         [0.],\n",
       "         [0.],\n",
       "         ...,\n",
       "         [0.],\n",
       "         [0.],\n",
       "         [0.]]),\n",
       "  array([[ 0.00000000e+00],\n",
       "         [ 0.00000000e+00],\n",
       "         [ 0.00000000e+00],\n",
       "         ...,\n",
       "         [-4.02957464e-09],\n",
       "         [-1.00740008e-09],\n",
       "         [ 0.00000000e+00]])])"
      ]
     },
     "execution_count": 26,
     "metadata": {},
     "output_type": "execute_result"
    }
   ],
   "source": [
    "audiofile = 'soundscape.wav'\n",
    "jamsfile = 'soundscape.jams'\n",
    "txtfile = 'soundscape.txt'\n",
    "sc.generate(audiofile, jamsfile,\n",
    "            allow_repeated_label=True,\n",
    "            allow_repeated_source=True,\n",
    "            reverb=0.1,\n",
    "            disable_sox_warnings=True,\n",
    "            no_audio=False,\n",
    "            txt_path=txtfile)"
   ]
  },
  {
   "cell_type": "code",
   "execution_count": null,
   "id": "1fa2fb24",
   "metadata": {},
   "outputs": [],
   "source": []
  },
  {
   "cell_type": "code",
   "execution_count": null,
   "id": "44ef2db3",
   "metadata": {},
   "outputs": [],
   "source": []
  }
 ],
 "metadata": {
  "kernelspec": {
   "display_name": "Python 3",
   "language": "python",
   "name": "python3"
  },
  "language_info": {
   "codemirror_mode": {
    "name": "ipython",
    "version": 3
   },
   "file_extension": ".py",
   "mimetype": "text/x-python",
   "name": "python",
   "nbconvert_exporter": "python",
   "pygments_lexer": "ipython3",
   "version": "3.8.8"
  }
 },
 "nbformat": 4,
 "nbformat_minor": 5
}

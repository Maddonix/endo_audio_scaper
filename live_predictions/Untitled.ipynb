{
 "cells": [
  {
   "cell_type": "code",
   "execution_count": 1,
   "id": "1c131fba",
   "metadata": {},
   "outputs": [],
   "source": [
    "import sounddevice as sd"
   ]
  },
  {
   "cell_type": "code",
   "execution_count": 2,
   "id": "678fdfd7",
   "metadata": {},
   "outputs": [
    {
     "data": {
      "text/plain": [
       "   0 HDA NVidia: HDMI 0 (hw:0,3), ALSA (0 in, 2 out)\n",
       "   1 HDA NVidia: HDMI 1 (hw:0,7), ALSA (0 in, 2 out)\n",
       "   2 HDA NVidia: HDMI 2 (hw:0,8), ALSA (0 in, 8 out)\n",
       "   3 HDA NVidia: HDMI 3 (hw:0,9), ALSA (0 in, 8 out)\n",
       "   4 HDA NVidia: HDMI 4 (hw:0,10), ALSA (0 in, 8 out)\n",
       "   5 HDA NVidia: HDMI 5 (hw:0,11), ALSA (0 in, 8 out)\n",
       "   6 HDA NVidia: HDMI 6 (hw:0,12), ALSA (0 in, 8 out)\n",
       "   7 HD-Audio Generic: ALC1220 Analog (hw:1,0), ALSA (2 in, 6 out)\n",
       "   8 HD-Audio Generic: ALC1220 Digital (hw:1,1), ALSA (0 in, 2 out)\n",
       "   9 HD-Audio Generic: ALC1220 Alt Analog (hw:1,2), ALSA (2 in, 0 out)\n",
       "  10 Scarlett 2i2 USB: Audio (hw:2,0), ALSA (2 in, 2 out)\n",
       "  11 hdmi, ALSA (0 in, 2 out)\n",
       "  12 pulse, ALSA (32 in, 32 out)\n",
       "* 13 default, ALSA (32 in, 32 out)"
      ]
     },
     "execution_count": 2,
     "metadata": {},
     "output_type": "execute_result"
    }
   ],
   "source": [
    "sd.query_devices()"
   ]
  },
  {
   "cell_type": "code",
   "execution_count": 3,
   "id": "b19316c7",
   "metadata": {},
   "outputs": [
    {
     "data": {
      "text/plain": [
       "({'name': 'ALSA',\n",
       "  'devices': [0, 1, 2, 3, 4, 5, 6, 7, 8, 9, 10, 11, 12, 13],\n",
       "  'default_input_device': 13,\n",
       "  'default_output_device': 13},\n",
       " {'name': 'OSS',\n",
       "  'devices': [],\n",
       "  'default_input_device': -1,\n",
       "  'default_output_device': -1})"
      ]
     },
     "execution_count": 3,
     "metadata": {},
     "output_type": "execute_result"
    }
   ],
   "source": [
    "sd.query_hostapis()"
   ]
  },
  {
   "cell_type": "code",
   "execution_count": 4,
   "id": "f5980ee0",
   "metadata": {},
   "outputs": [],
   "source": [
    "fs = 44100\n",
    "channels = 1\n",
    "duration = 3"
   ]
  },
  {
   "cell_type": "code",
   "execution_count": 5,
   "id": "972907ec",
   "metadata": {},
   "outputs": [],
   "source": [
    "sd.default.device = 10\n",
    "# sd.default.samplerate = fs\n",
    "# sd.default.channels = channels"
   ]
  },
  {
   "cell_type": "code",
   "execution_count": 6,
   "id": "386b5bf5",
   "metadata": {},
   "outputs": [],
   "source": [
    "sd.default.samplerate"
   ]
  },
  {
   "cell_type": "code",
   "execution_count": 7,
   "id": "4819c89c",
   "metadata": {},
   "outputs": [],
   "source": [
    "myarray = sd.rec(int(duration * fs), channels = 1, dtype='float32')"
   ]
  },
  {
   "cell_type": "code",
   "execution_count": 8,
   "id": "c53f9dba",
   "metadata": {},
   "outputs": [],
   "source": [
    "myrecording = sd.playrec(myarray, fs, channels=2)"
   ]
  },
  {
   "cell_type": "code",
   "execution_count": 9,
   "id": "ec490997",
   "metadata": {},
   "outputs": [
    {
     "data": {
      "text/plain": [
       "'libportaudio.so.2'"
      ]
     },
     "execution_count": 9,
     "metadata": {},
     "output_type": "execute_result"
    }
   ],
   "source": [
    "sd._libname"
   ]
  },
  {
   "cell_type": "code",
   "execution_count": 10,
   "id": "3003019b",
   "metadata": {},
   "outputs": [
    {
     "data": {
      "text/plain": [
       "(1246720,\n",
       " 'PortAudio V19.6.0-devel, revision 396fe4b6699ae929d3a685b3ef8a7e97396139a4')"
      ]
     },
     "execution_count": 10,
     "metadata": {},
     "output_type": "execute_result"
    }
   ],
   "source": [
    "sd.get_portaudio_version()"
   ]
  },
  {
   "cell_type": "code",
   "execution_count": 4,
   "id": "3d2c5217",
   "metadata": {},
   "outputs": [],
   "source": [
    "import torch"
   ]
  },
  {
   "cell_type": "code",
   "execution_count": null,
   "id": "29651525",
   "metadata": {},
   "outputs": [],
   "source": [
    "torch.Tensor()"
   ]
  }
 ],
 "metadata": {
  "kernelspec": {
   "display_name": "Python 3",
   "language": "python",
   "name": "python3"
  },
  "language_info": {
   "codemirror_mode": {
    "name": "ipython",
    "version": 3
   },
   "file_extension": ".py",
   "mimetype": "text/x-python",
   "name": "python",
   "nbconvert_exporter": "python",
   "pygments_lexer": "ipython3",
   "version": "3.9.4"
  }
 },
 "nbformat": 4,
 "nbformat_minor": 5
}
